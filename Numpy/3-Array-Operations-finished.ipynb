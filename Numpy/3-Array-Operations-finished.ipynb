{
 "cells": [
  {
   "cell_type": "markdown",
   "metadata": {},
   "source": [
    "# Array Operations\n",
    "- Array with a scalar\n",
    "- Array with an array\n",
    "- Universal functions\n",
    "    - unary\n",
    "    - binary\n",
    "- Conditional Operations\n",
    "- Mathematical and Statistical Operations"
   ]
  },
  {
   "cell_type": "code",
   "execution_count": 23,
   "metadata": {
    "collapsed": true
   },
   "outputs": [],
   "source": [
    "import numpy as np"
   ]
  },
  {
   "cell_type": "code",
   "execution_count": 24,
   "metadata": {},
   "outputs": [
    {
     "name": "stdout",
     "output_type": "stream",
     "text": [
      "[[ 0.66225245  0.92546738  0.58278316]\n",
      " [ 0.74128247  0.79663347  0.69766643]\n",
      " [ 0.29560532  0.82011358  0.26460133]]\n",
      "------------------------------\n",
      "[[ 0.02075852  0.87493482  0.58128657]\n",
      " [ 0.03337477  0.13022455  0.37692836]\n",
      " [ 0.4621488   0.60910279  0.57624408]]\n"
     ]
    }
   ],
   "source": [
    "a = np.random.rand(9).reshape(3,3)\n",
    "print (a)\n",
    "b = np.random.rand(9).reshape(3,3)\n",
    "print (\"--\"*15)\n",
    "print (b)"
   ]
  },
  {
   "cell_type": "markdown",
   "metadata": {},
   "source": [
    "----"
   ]
  },
  {
   "cell_type": "markdown",
   "metadata": {},
   "source": [
    "- Scalar operations\n",
    "- Multiply/Divide/Add/Subtract an array with a scalar value"
   ]
  },
  {
   "cell_type": "code",
   "execution_count": 25,
   "metadata": {},
   "outputs": [
    {
     "name": "stdout",
     "output_type": "stream",
     "text": [
      "[[  1.98675735   2.77640213   1.74834948]\n",
      " [  2.2238474    2.38990042   2.09299929]\n",
      " [  0.88681597   2.46034075  12.        ]]\n",
      "------------------------------\n",
      "[[ 0.22075082  0.30848913  0.19426105]\n",
      " [ 0.24709416  0.26554449  0.23255548]\n",
      " [ 0.09853511  0.27337119  1.33333333]]\n",
      "------------------------------\n",
      "[[ 3.66225245  3.92546738  3.58278316]\n",
      " [ 3.74128247  3.79663347  3.69766643]\n",
      " [ 3.29560532  3.82011358  7.        ]]\n",
      "------------------------------\n",
      "[[-2.33774755 -2.07453262 -2.41721684]\n",
      " [-2.25871753 -2.20336653 -2.30233357]\n",
      " [-2.70439468 -2.17988642  1.        ]]\n"
     ]
    }
   ],
   "source": [
    "a[2][2] = 4\n",
    "print (a * 3)\n",
    "print('--'*15)\n",
    "print (a / 3)\n",
    "print('--'*15)\n",
    "print (a + 3)\n",
    "print('--'*15)\n",
    "print (a - 3)"
   ]
  },
  {
   "cell_type": "markdown",
   "metadata": {},
   "source": [
    "- Array with Array operations\n",
    "- Multiply/Divide/Add/Subtract an array with an array value\n",
    "- Try with arrays of different dimensions\n",
    "- What is broadcasting?"
   ]
  },
  {
   "cell_type": "code",
   "execution_count": 26,
   "metadata": {},
   "outputs": [
    {
     "data": {
      "text/plain": [
       "array([[ 0.68301097,  1.8004022 ,  1.16406973],\n",
       "       [ 0.77465724,  0.92685803,  1.07459479],\n",
       "       [ 0.75775413,  1.42921638,  4.57624408]])"
      ]
     },
     "execution_count": 26,
     "metadata": {},
     "output_type": "execute_result"
    }
   ],
   "source": [
    "a + b"
   ]
  },
  {
   "cell_type": "code",
   "execution_count": 27,
   "metadata": {},
   "outputs": [
    {
     "data": {
      "text/plain": [
       "array([[  2.6490098 ,   3.7018695 ,   2.33113264],\n",
       "       [  2.96512987,   3.18653389,   2.79066572],\n",
       "       [ 16.        ,  16.        ,  16.        ]])"
      ]
     },
     "execution_count": 27,
     "metadata": {},
     "output_type": "execute_result"
    }
   ],
   "source": [
    "a[2][2] = 4\n",
    "a[2] = 4\n",
    "a = a * 4\n",
    "a"
   ]
  },
  {
   "cell_type": "markdown",
   "metadata": {},
   "source": [
    "----\n",
    "## Universal Functions or ufunc\n",
    "- Element wise operations\n"
   ]
  },
  {
   "cell_type": "markdown",
   "metadata": {},
   "source": [
    "- sqrt"
   ]
  },
  {
   "cell_type": "code",
   "execution_count": 28,
   "metadata": {},
   "outputs": [
    {
     "data": {
      "text/plain": [
       "array([[ 1.62757789,  1.9240243 ,  1.52680471],\n",
       "       [ 1.72195525,  1.78508652,  1.67052857],\n",
       "       [ 4.        ,  4.        ,  4.        ]])"
      ]
     },
     "execution_count": 28,
     "metadata": {},
     "output_type": "execute_result"
    }
   ],
   "source": [
    "np.sqrt(a)"
   ]
  },
  {
   "cell_type": "markdown",
   "metadata": {},
   "source": [
    "- exp"
   ]
  },
  {
   "cell_type": "code",
   "execution_count": 29,
   "metadata": {},
   "outputs": [
    {
     "data": {
      "text/plain": [
       "array([[  1.41400302e+01,   4.05229915e+01,   1.02895893e+01],\n",
       "       [  1.93972221e+01,   2.42043869e+01,   1.62918620e+01],\n",
       "       [  8.88611052e+06,   8.88611052e+06,   8.88611052e+06]])"
      ]
     },
     "execution_count": 29,
     "metadata": {},
     "output_type": "execute_result"
    }
   ],
   "source": [
    "np.exp(a)"
   ]
  },
  {
   "cell_type": "markdown",
   "metadata": {},
   "source": [
    "- maximum"
   ]
  },
  {
   "cell_type": "code",
   "execution_count": 30,
   "metadata": {},
   "outputs": [
    {
     "data": {
      "text/plain": [
       "array([[ 0.66225245,  0.92546738,  0.58278316],\n",
       "       [ 0.74128247,  0.79663347,  0.69766643],\n",
       "       [ 4.        ,  4.        ,  4.        ]])"
      ]
     },
     "execution_count": 30,
     "metadata": {},
     "output_type": "execute_result"
    }
   ],
   "source": [
    "a/4"
   ]
  },
  {
   "cell_type": "code",
   "execution_count": 31,
   "metadata": {},
   "outputs": [
    {
     "data": {
      "text/plain": [
       "array([[ 0.02075852,  0.87493482,  0.58128657],\n",
       "       [ 0.03337477,  0.13022455,  0.37692836],\n",
       "       [ 9.        ,  9.        ,  9.        ]])"
      ]
     },
     "execution_count": 31,
     "metadata": {},
     "output_type": "execute_result"
    }
   ],
   "source": [
    "b[2]=9\n",
    "b"
   ]
  },
  {
   "cell_type": "code",
   "execution_count": 32,
   "metadata": {},
   "outputs": [
    {
     "data": {
      "text/plain": [
       "array([[ 0.66225245,  0.92546738,  0.58278316],\n",
       "       [ 0.74128247,  0.79663347,  0.69766643],\n",
       "       [ 9.        ,  9.        ,  9.        ]])"
      ]
     },
     "execution_count": 32,
     "metadata": {},
     "output_type": "execute_result"
    }
   ],
   "source": [
    "np.maximum(a/4,b)"
   ]
  },
  {
   "cell_type": "markdown",
   "metadata": {},
   "source": [
    "- ceil, floor, rint\n",
    "- Keep an eye on datatypes too"
   ]
  },
  {
   "cell_type": "code",
   "execution_count": 33,
   "metadata": {},
   "outputs": [
    {
     "data": {
      "text/plain": [
       "array([[  3.,   4.,   3.],\n",
       "       [  3.,   4.,   3.],\n",
       "       [ 16.,  16.,  16.]])"
      ]
     },
     "execution_count": 33,
     "metadata": {},
     "output_type": "execute_result"
    }
   ],
   "source": [
    "np.ceil(a)"
   ]
  },
  {
   "cell_type": "code",
   "execution_count": 34,
   "metadata": {},
   "outputs": [
    {
     "data": {
      "text/plain": [
       "array([[  2.,   3.,   2.],\n",
       "       [  2.,   3.,   2.],\n",
       "       [ 16.,  16.,  16.]])"
      ]
     },
     "execution_count": 34,
     "metadata": {},
     "output_type": "execute_result"
    }
   ],
   "source": [
    "np.floor(a)"
   ]
  },
  {
   "cell_type": "code",
   "execution_count": 35,
   "metadata": {},
   "outputs": [
    {
     "data": {
      "text/plain": [
       "array([[  3.,   4.,   2.],\n",
       "       [  3.,   3.,   3.],\n",
       "       [ 16.,  16.,  16.]])"
      ]
     },
     "execution_count": 35,
     "metadata": {},
     "output_type": "execute_result"
    }
   ],
   "source": [
    "np.rint(a)"
   ]
  },
  {
   "cell_type": "markdown",
   "metadata": {},
   "source": [
    "- add"
   ]
  },
  {
   "cell_type": "code",
   "execution_count": 36,
   "metadata": {},
   "outputs": [
    {
     "data": {
      "text/plain": [
       "array([[  2.66976832,   4.57680433,   2.91241921],\n",
       "       [  2.99850464,   3.31675845,   3.16759408],\n",
       "       [ 25.        ,  25.        ,  25.        ]])"
      ]
     },
     "execution_count": 36,
     "metadata": {},
     "output_type": "execute_result"
    }
   ],
   "source": [
    "np.add(a,b)\n",
    "a + b"
   ]
  },
  {
   "cell_type": "markdown",
   "metadata": {},
   "source": [
    "- subtract"
   ]
  },
  {
   "cell_type": "markdown",
   "metadata": {},
   "source": [
    "----\n",
    "## Conditional Operations\n",
    "- np.where"
   ]
  },
  {
   "cell_type": "markdown",
   "metadata": {},
   "source": [
    "- where with arrays"
   ]
  },
  {
   "cell_type": "code",
   "execution_count": 37,
   "metadata": {},
   "outputs": [
    {
     "data": {
      "text/plain": [
       "array([[ 0.17283524,  0.52702037, -0.81890602],\n",
       "       [ 0.04500933, -2.38373298,  0.27731243],\n",
       "       [ 0.21159858, -0.91683115,  0.8472341 ]])"
      ]
     },
     "execution_count": 37,
     "metadata": {},
     "output_type": "execute_result"
    }
   ],
   "source": [
    "a = np.random.randn(9).reshape(3,3)\n",
    "a"
   ]
  },
  {
   "cell_type": "code",
   "execution_count": 38,
   "metadata": {},
   "outputs": [
    {
     "data": {
      "text/plain": [
       "array([[0, 0, 1],\n",
       "       [0, 1, 0],\n",
       "       [0, 1, 0]])"
      ]
     },
     "execution_count": 38,
     "metadata": {},
     "output_type": "execute_result"
    }
   ],
   "source": [
    "np.where(a >0,0, 1)"
   ]
  },
  {
   "cell_type": "markdown",
   "metadata": {},
   "source": [
    "----\n",
    "## Mathematical Operations"
   ]
  },
  {
   "cell_type": "markdown",
   "metadata": {},
   "source": [
    "- sum"
   ]
  },
  {
   "cell_type": "code",
   "execution_count": 39,
   "metadata": {},
   "outputs": [
    {
     "name": "stdout",
     "output_type": "stream",
     "text": [
      "[[0 1 2]\n",
      " [3 4 5]\n",
      " [6 7 8]]\n",
      "------------------------------\n",
      "Total sum 36\n",
      "------------------------------\n",
      "Sum of columns [ 9 12 15]\n",
      "Sum of rows [ 3 12 21]\n"
     ]
    }
   ],
   "source": [
    "a1 = np.arange(9).reshape(3,3)\n",
    "print (a1)\n",
    "print (\"-\" * 30)\n",
    "print (\"Total sum\" ,a1.sum())\n",
    "print (\"-\" * 30)\n",
    "print (\"Sum of columns\", a1.sum(axis = 0))\n",
    "print (\"Sum of rows\", a1.sum(axis = 1)) \n",
    "\n"
   ]
  },
  {
   "cell_type": "markdown",
   "metadata": {},
   "source": [
    "- mean"
   ]
  },
  {
   "cell_type": "code",
   "execution_count": 40,
   "metadata": {},
   "outputs": [
    {
     "name": "stdout",
     "output_type": "stream",
     "text": [
      "[[0 1 2]\n",
      " [3 4 5]\n",
      " [6 7 8]]\n",
      "------------------------------\n",
      "Total mean 4.0\n",
      "------------------------------\n",
      "Mean of columns [ 3.  4.  5.]\n",
      "Mean of rows [ 1.  4.  7.]\n"
     ]
    }
   ],
   "source": [
    "a1 = np.arange(9).reshape(3,3)\n",
    "print (a1)\n",
    "print (\"-\" * 30)\n",
    "print (\"Total mean\" ,a1.mean())\n",
    "print (\"-\" * 30)\n",
    "print (\"Mean of columns\", a1.mean(axis = 0))\n",
    "print (\"Mean of rows\", a1.mean(axis = 1)) "
   ]
  },
  {
   "cell_type": "markdown",
   "metadata": {},
   "source": [
    "- argmin\n",
    "- argmax"
   ]
  },
  {
   "cell_type": "code",
   "execution_count": 41,
   "metadata": {
    "scrolled": true
   },
   "outputs": [
    {
     "name": "stdout",
     "output_type": "stream",
     "text": [
      "(3, 3)\n",
      "------------------------------\n",
      "9\n",
      "------------------------------\n",
      "[2 2 2]\n",
      "------------------------------\n",
      "[0 0 0]\n",
      "------------------------------\n",
      "[[1 2 3]\n",
      " [4 5 6]\n",
      " [7 8 9]]\n"
     ]
    }
   ],
   "source": [
    "a2 =np.array([[1,2,3],[4,5,6], [7,8,9] ])\n",
    "print (a2.shape)\n",
    "print (\"-\" * 30)\n",
    "print (a2.max())\n",
    "print (\"-\" * 30)\n",
    "print (a2.argmax(axis=1))\n",
    "print (\"-\" * 30)\n",
    "print (a2.argmin(axis=1))\n",
    "print (\"-\" * 30)\n",
    "print (a2)"
   ]
  },
  {
   "cell_type": "markdown",
   "metadata": {},
   "source": [
    "## Boolean arrays and some tricks"
   ]
  },
  {
   "cell_type": "markdown",
   "metadata": {},
   "source": [
    "- sum\n",
    "- any array conditional will give back an array. you can take the sum to count the values"
   ]
  },
  {
   "cell_type": "code",
   "execution_count": 42,
   "metadata": {},
   "outputs": [
    {
     "name": "stdout",
     "output_type": "stream",
     "text": [
      "[[ 0.17283524  0.52702037 -0.81890602]\n",
      " [ 0.04500933 -2.38373298  0.27731243]\n",
      " [ 0.21159858 -0.91683115  0.8472341 ]]\n",
      "------------------------------\n"
     ]
    },
    {
     "data": {
      "text/plain": [
       "3"
      ]
     },
     "execution_count": 42,
     "metadata": {},
     "output_type": "execute_result"
    }
   ],
   "source": [
    "print (a)\n",
    "\n",
    "print (\"-\" * 30)\n",
    "\n",
    "(a < a.mean()).sum()\n",
    "(a < a.mean()).sum()\n"
   ]
  },
  {
   "cell_type": "markdown",
   "metadata": {},
   "source": [
    "- any"
   ]
  },
  {
   "cell_type": "code",
   "execution_count": 43,
   "metadata": {},
   "outputs": [
    {
     "data": {
      "text/plain": [
       "True"
      ]
     },
     "execution_count": 43,
     "metadata": {},
     "output_type": "execute_result"
    }
   ],
   "source": [
    "(a<a.mean()).any()"
   ]
  },
  {
   "cell_type": "markdown",
   "metadata": {
    "collapsed": true
   },
   "source": [
    "- all"
   ]
  },
  {
   "cell_type": "code",
   "execution_count": 44,
   "metadata": {},
   "outputs": [
    {
     "data": {
      "text/plain": [
       "False"
      ]
     },
     "execution_count": 44,
     "metadata": {},
     "output_type": "execute_result"
    }
   ],
   "source": [
    "(a<a.mean()).all()"
   ]
  }
 ],
 "metadata": {
  "kernelspec": {
   "display_name": "Python 3",
   "language": "python",
   "name": "python3"
  },
  "language_info": {
   "codemirror_mode": {
    "name": "ipython",
    "version": 3
   },
   "file_extension": ".py",
   "mimetype": "text/x-python",
   "name": "python",
   "nbconvert_exporter": "python",
   "pygments_lexer": "ipython3",
   "version": "3.6.2"
  }
 },
 "nbformat": 4,
 "nbformat_minor": 2
}
