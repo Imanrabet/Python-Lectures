{
 "cells": [
  {
   "cell_type": "markdown",
   "metadata": {},
   "source": [
    "# Array Indexing and Slicing"
   ]
  },
  {
   "cell_type": "code",
   "execution_count": 68,
   "metadata": {
    "collapsed": true
   },
   "outputs": [],
   "source": [
    "import numpy as np"
   ]
  },
  {
   "cell_type": "code",
   "execution_count": 69,
   "metadata": {},
   "outputs": [
    {
     "data": {
      "text/plain": [
       "array([ 0.24184547,  0.16910822, -0.40853967,  1.07715916,  1.76275387,\n",
       "       -0.5690309 ,  1.45654105, -0.61139028, -0.25962726])"
      ]
     },
     "execution_count": 69,
     "metadata": {},
     "output_type": "execute_result"
    }
   ],
   "source": [
    "a = np.random.randn(9)\n",
    "a"
   ]
  },
  {
   "cell_type": "markdown",
   "metadata": {},
   "source": [
    "- Basic python sequence like slicing and indexing"
   ]
  },
  {
   "cell_type": "code",
   "execution_count": 70,
   "metadata": {},
   "outputs": [
    {
     "name": "stdout",
     "output_type": "stream",
     "text": [
      "0.24184546694\n",
      "[ 0.16910822 -0.40853967]\n",
      "----------------------------------------\n",
      "[   0.24184547    0.16910822  100.            1.07715916    1.76275387\n",
      "   -0.5690309     1.45654105   -0.61139028   -0.25962726]\n",
      "----------------------------------------\n",
      "[   0.16910822  100.            1.07715916]\n",
      "----------------------------------------\n",
      "----------------------------------------\n",
      "[  0.16910822  20.           1.07715916]\n",
      "----------------------------------------\n",
      "[  0.24184547   0.16910822  20.           1.07715916   1.76275387\n",
      "  -0.5690309    1.45654105  -0.61139028  -0.25962726]\n"
     ]
    }
   ],
   "source": [
    "print(a[0])\n",
    "print(a[1:3])\n",
    "print('--'*20)\n",
    "a[2]=100\n",
    "print(a)\n",
    "print(\"--\"*20)\n",
    "b= a[1:4]\n",
    "print(b)\n",
    "print(\"--\"*20)\n",
    "b[1]=20\n",
    "print(\"--\"*20)\n",
    "print(b)\n",
    "print(\"--\"*20)\n",
    "print(a)"
   ]
  },
  {
   "cell_type": "markdown",
   "metadata": {},
   "source": [
    "- Beginnings of a broadcast"
   ]
  },
  {
   "cell_type": "markdown",
   "metadata": {},
   "source": [
    " - Example to show that slicing is only a view of the original. We should actually use .copy to make a copy of the array. Or any broadcasted value will affect the original array"
   ]
  },
  {
   "cell_type": "code",
   "execution_count": 71,
   "metadata": {},
   "outputs": [
    {
     "data": {
      "text/plain": [
       "array([  0.16910822,  20.        ,   1.07715916])"
      ]
     },
     "execution_count": 71,
     "metadata": {},
     "output_type": "execute_result"
    }
   ],
   "source": [
    "b=(a[1:4]).copy()\n",
    "b"
   ]
  },
  {
   "cell_type": "code",
   "execution_count": 72,
   "metadata": {},
   "outputs": [
    {
     "data": {
      "text/plain": [
       "array([[ 0.22777771, -0.60573264, -0.93469303],\n",
       "       [ 1.11951012, -0.6668918 ,  0.02779072],\n",
       "       [-1.65373659,  0.5943534 ,  0.6852957 ]])"
      ]
     },
     "execution_count": 72,
     "metadata": {},
     "output_type": "execute_result"
    }
   ],
   "source": [
    "aa = np.random.randn(9).reshape(3,3)\n",
    "aa"
   ]
  },
  {
   "cell_type": "markdown",
   "metadata": {},
   "source": [
    "- Array index on 2d arrays\n",
    "- Double bracket notation"
   ]
  },
  {
   "cell_type": "code",
   "execution_count": 73,
   "metadata": {},
   "outputs": [
    {
     "data": {
      "text/plain": [
       "(1, 4)"
      ]
     },
     "execution_count": 73,
     "metadata": {},
     "output_type": "execute_result"
    }
   ],
   "source": [
    "np.array([[1,2,3,4]]).shape\n",
    "\n"
   ]
  },
  {
   "cell_type": "markdown",
   "metadata": {},
   "source": [
    "- Single bracket notation"
   ]
  },
  {
   "cell_type": "code",
   "execution_count": 74,
   "metadata": {},
   "outputs": [
    {
     "data": {
      "text/plain": [
       "(4,)"
      ]
     },
     "execution_count": 74,
     "metadata": {},
     "output_type": "execute_result"
    }
   ],
   "source": [
    "np.array([1,2,3,4]).shape\n"
   ]
  },
  {
   "cell_type": "markdown",
   "metadata": {},
   "source": [
    "- grab sections of a 2d array"
   ]
  },
  {
   "cell_type": "code",
   "execution_count": 75,
   "metadata": {},
   "outputs": [
    {
     "name": "stdout",
     "output_type": "stream",
     "text": [
      "[[  0.24184547   0.16910822  20.        ]\n",
      " [  1.07715916   1.76275387  -0.5690309 ]\n",
      " [  1.45654105  -0.61139028  -0.25962726]]\n",
      "------------------------------\n"
     ]
    },
    {
     "data": {
      "text/plain": [
       "array([[ 0.24184547,  0.16910822],\n",
       "       [ 1.07715916,  1.76275387]])"
      ]
     },
     "execution_count": 75,
     "metadata": {},
     "output_type": "execute_result"
    }
   ],
   "source": [
    "x = a.reshape(3,3)\n",
    "print(x)\n",
    "print(\"-\"*30)\n",
    "\n",
    "x[0:2, 0:2]"
   ]
  },
  {
   "cell_type": "markdown",
   "metadata": {},
   "source": [
    "- Fancy indexing\n",
    "- Create an array with linspace of 100 items from 1 to 100\n",
    "- Reshape it to a 10 by 10 array\n",
    "- Select array using [[0,2]]"
   ]
  },
  {
   "cell_type": "code",
   "execution_count": 76,
   "metadata": {},
   "outputs": [
    {
     "name": "stdout",
     "output_type": "stream",
     "text": [
      "[  1.     1.99   2.98   3.97   4.96   5.95   6.94   7.93   8.92   9.91\n",
      "  10.9   11.89  12.88  13.87  14.86  15.85  16.84  17.83  18.82  19.81\n",
      "  20.8   21.79  22.78  23.77  24.76  25.75  26.74  27.73  28.72  29.71\n",
      "  30.7   31.69  32.68  33.67  34.66  35.65  36.64  37.63  38.62  39.61\n",
      "  40.6   41.59  42.58  43.57  44.56  45.55  46.54  47.53  48.52  49.51\n",
      "  50.5   51.49  52.48  53.47  54.46  55.45  56.44  57.43  58.42  59.41\n",
      "  60.4   61.39  62.38  63.37  64.36  65.35  66.34  67.33  68.32  69.31\n",
      "  70.3   71.29  72.28  73.27  74.26  75.25  76.24  77.23  78.22  79.21\n",
      "  80.2   81.19  82.18  83.17  84.16  85.15  86.14  87.13  88.12  89.11\n",
      "  90.1   91.09  92.08  93.07  94.06  95.05  96.04  97.03  98.02  99.01]\n",
      "------------------------------\n",
      "------------------------------\n",
      "[   1.    2.    3.    4.    5.    6.    7.    8.    9.   10.   11.   12.\n",
      "   13.   14.   15.   16.   17.   18.   19.   20.   21.   22.   23.   24.\n",
      "   25.   26.   27.   28.   29.   30.   31.   32.   33.   34.   35.   36.\n",
      "   37.   38.   39.   40.   41.   42.   43.   44.   45.   46.   47.   48.\n",
      "   49.   50.   51.   52.   53.   54.   55.   56.   57.   58.   59.   60.\n",
      "   61.   62.   63.   64.   65.   66.   67.   68.   69.   70.   71.   72.\n",
      "   73.   74.   75.   76.   77.   78.   79.   80.   81.   82.   83.   84.\n",
      "   85.   86.   87.   88.   89.   90.   91.   92.   93.   94.   95.   96.\n",
      "   97.   98.   99.  100.]\n",
      "------------------------------\n",
      "------------------------------\n",
      "[[ 1.45654105 -0.61139028 -0.25962726]\n",
      " [ 1.45654105 -0.61139028 -0.25962726]]\n"
     ]
    }
   ],
   "source": [
    "print(np.linspace(1,100,100,endpoint=False))\n",
    "\n",
    "print('-'*30)\n",
    "print('-'*30)\n",
    "\n",
    "print(np.linspace(1,100,100,endpoint=True))\n",
    "\n",
    "print('-'*30)\n",
    "print('-'*30)\n",
    "\n",
    "print(x[[2,2]])"
   ]
  },
  {
   "cell_type": "markdown",
   "metadata": {},
   "source": [
    "- array conditional selection\n",
    "- a[a>0] . Note the dimensions of the result"
   ]
  },
  {
   "cell_type": "code",
   "execution_count": 77,
   "metadata": {},
   "outputs": [
    {
     "name": "stdout",
     "output_type": "stream",
     "text": [
      "[ 20.           1.07715916   1.76275387   1.45654105]\n",
      "------------------------------\n",
      "<class 'numpy.ndarray'>\n"
     ]
    }
   ],
   "source": [
    "t=x[x>1]\n",
    "print(t)\n",
    "print('-'*30)\n",
    "print(type(t))"
   ]
  },
  {
   "cell_type": "markdown",
   "metadata": {},
   "source": [
    "- Reshape operation"
   ]
  },
  {
   "cell_type": "code",
   "execution_count": 78,
   "metadata": {},
   "outputs": [
    {
     "name": "stdout",
     "output_type": "stream",
     "text": [
      "[1 2 3 4 5 6]\n",
      "------------------------------\n"
     ]
    },
    {
     "data": {
      "text/plain": [
       "array([[1, 2, 3],\n",
       "       [4, 5, 6]])"
      ]
     },
     "execution_count": 78,
     "metadata": {},
     "output_type": "execute_result"
    }
   ],
   "source": [
    "tt= np.array([1,2,3,4,5,6])\n",
    "print(tt)\n",
    "print('--'*15)\n",
    "new = tt.reshape(2,3)\n",
    "new"
   ]
  },
  {
   "cell_type": "markdown",
   "metadata": {},
   "source": [
    "- Transpose"
   ]
  },
  {
   "cell_type": "code",
   "execution_count": 79,
   "metadata": {},
   "outputs": [
    {
     "data": {
      "text/plain": [
       "array([[1, 4],\n",
       "       [2, 5],\n",
       "       [3, 6]])"
      ]
     },
     "execution_count": 79,
     "metadata": {},
     "output_type": "execute_result"
    }
   ],
   "source": [
    "new.T"
   ]
  },
  {
   "cell_type": "code",
   "execution_count": null,
   "metadata": {
    "collapsed": true
   },
   "outputs": [],
   "source": []
  }
 ],
 "metadata": {
  "kernelspec": {
   "display_name": "Python 3",
   "language": "python",
   "name": "python3"
  },
  "language_info": {
   "codemirror_mode": {
    "name": "ipython",
    "version": 3
   },
   "file_extension": ".py",
   "mimetype": "text/x-python",
   "name": "python",
   "nbconvert_exporter": "python",
   "pygments_lexer": "ipython3",
   "version": "3.6.2"
  }
 },
 "nbformat": 4,
 "nbformat_minor": 2
}
